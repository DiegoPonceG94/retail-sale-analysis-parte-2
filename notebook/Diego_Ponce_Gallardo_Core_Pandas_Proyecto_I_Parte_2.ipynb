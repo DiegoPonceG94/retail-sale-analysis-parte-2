{
  "cells": [
    {
      "cell_type": "code",
      "execution_count": null,
      "id": "823e33e8",
      "metadata": {
        "id": "823e33e8"
      },
      "outputs": [],
      "source": [
        "from google.colab import files\n",
        "uploaded = files.upload()  # Sube el archivo retail_sales.csv\n"
      ]
    },
    {
      "cell_type": "code",
      "execution_count": null,
      "id": "34c8ab7a",
      "metadata": {
        "id": "34c8ab7a"
      },
      "outputs": [],
      "source": [
        "import pandas as pd\n",
        "\n",
        "# Cargar el archivo CSV en un DataFrame\n",
        "df = pd.read_csv(\"retail_sales.csv\")\n",
        "\n",
        "# Mostrar las primeras 10 filas\n",
        "df.head(10)\n"
      ]
    },
    {
      "cell_type": "code",
      "execution_count": null,
      "id": "7ca6c6fb",
      "metadata": {
        "id": "7ca6c6fb"
      },
      "outputs": [],
      "source": [
        "# Últimas 5 filas\n",
        "df.tail(5)\n"
      ]
    },
    {
      "cell_type": "code",
      "execution_count": null,
      "id": "95af1254",
      "metadata": {
        "id": "95af1254"
      },
      "outputs": [],
      "source": [
        "# Información general del DataFrame\n",
        "df.info()\n"
      ]
    },
    {
      "cell_type": "code",
      "execution_count": null,
      "id": "0384d725",
      "metadata": {
        "id": "0384d725"
      },
      "outputs": [],
      "source": [
        "# Estadísticas descriptivas\n",
        "df.describe()\n"
      ]
    },
    {
      "cell_type": "code",
      "execution_count": null,
      "id": "be24dec3",
      "metadata": {
        "id": "be24dec3"
      },
      "outputs": [],
      "source": [
        "# Tipos de datos de cada columna\n",
        "df.dtypes\n"
      ]
    },
    {
      "cell_type": "code",
      "execution_count": null,
      "id": "73e06234",
      "metadata": {
        "id": "73e06234"
      },
      "outputs": [],
      "source": [
        "# Conteo de valores únicos en 'Producto'\n",
        "df['Producto'].value_counts()\n"
      ]
    },
    {
      "cell_type": "code",
      "execution_count": null,
      "id": "27d71c3c",
      "metadata": {
        "id": "27d71c3c"
      },
      "outputs": [],
      "source": [
        "# Valores únicos en 'Product Category'\n",
        "df['Product Category'].unique()\n"
      ]
    },
    {
      "cell_type": "code",
      "execution_count": null,
      "id": "a3325304",
      "metadata": {
        "id": "a3325304"
      },
      "outputs": [],
      "source": [
        "# Ventas mayores a 50\n",
        "df[df['Ventas'] > 50]\n"
      ]
    },
    {
      "cell_type": "code",
      "execution_count": null,
      "id": "8f6bbfdd",
      "metadata": {
        "id": "8f6bbfdd"
      },
      "outputs": [],
      "source": [
        "# Precio menor a 0.5\n",
        "df[df['Precio'] < 0.5]\n"
      ]
    },
    {
      "cell_type": "code",
      "execution_count": null,
      "id": "2a0aea14",
      "metadata": {
        "id": "2a0aea14"
      },
      "outputs": [],
      "source": [
        "# Producto \"Electronics\" y ventas > 30\n",
        "df.query(\"Producto == 'Electronics' and Ventas > 30\")\n"
      ]
    },
    {
      "cell_type": "code",
      "execution_count": null,
      "id": "b44963aa",
      "metadata": {
        "id": "b44963aa"
      },
      "outputs": [],
      "source": [
        "# Mostrar columnas Producto y Ventas\n",
        "df[['Producto', 'Ventas']]\n"
      ]
    },
    {
      "cell_type": "code",
      "execution_count": null,
      "id": "de2a1cfc",
      "metadata": {
        "id": "de2a1cfc"
      },
      "outputs": [],
      "source": [
        "# Filas de la 5 a la 10 y columnas Producto y Product Category\n",
        "df.loc[5:10, ['Producto', 'Product Category']]\n"
      ]
    },
    {
      "cell_type": "code",
      "execution_count": null,
      "id": "10e9a8df",
      "metadata": {
        "id": "10e9a8df"
      },
      "outputs": [],
      "source": [
        "# Primeras 5 filas y primeras 3 columnas\n",
        "df.iloc[0:5, 0:3]\n"
      ]
    }
  ],
  "metadata": {
    "colab": {
      "provenance": []
    }
  },
  "nbformat": 4,
  "nbformat_minor": 5
}